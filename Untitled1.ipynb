{
 "cells": [
  {
   "cell_type": "code",
   "execution_count": 6,
   "id": "7e7dff99-5afa-4de1-b583-c9d86c241cf3",
   "metadata": {},
   "outputs": [],
   "source": [
    "import pandas as pd"
   ]
  },
  {
   "cell_type": "code",
   "execution_count": 7,
   "id": "083d7623-9b09-482c-b073-f10891fe81d1",
   "metadata": {},
   "outputs": [],
   "source": [
    "df = pd.read_csv(\"spotify_millsongdata.csv\")"
   ]
  },
  {
   "cell_type": "code",
   "execution_count": 8,
   "id": "cb004ccf-b0e2-494c-89a9-7273b08b728a",
   "metadata": {},
   "outputs": [
    {
     "data": {
      "text/html": [
       "<div>\n",
       "<style scoped>\n",
       "    .dataframe tbody tr th:only-of-type {\n",
       "        vertical-align: middle;\n",
       "    }\n",
       "\n",
       "    .dataframe tbody tr th {\n",
       "        vertical-align: top;\n",
       "    }\n",
       "\n",
       "    .dataframe thead th {\n",
       "        text-align: right;\n",
       "    }\n",
       "</style>\n",
       "<table border=\"1\" class=\"dataframe\">\n",
       "  <thead>\n",
       "    <tr style=\"text-align: right;\">\n",
       "      <th></th>\n",
       "      <th>artist</th>\n",
       "      <th>song</th>\n",
       "      <th>link</th>\n",
       "      <th>text</th>\n",
       "    </tr>\n",
       "  </thead>\n",
       "  <tbody>\n",
       "    <tr>\n",
       "      <th>0</th>\n",
       "      <td>ABBA</td>\n",
       "      <td>Ahe's My Kind Of Girl</td>\n",
       "      <td>/a/abba/ahes+my+kind+of+girl_20598417.html</td>\n",
       "      <td>Look at her face, it's a wonderful face  \\r\\nA...</td>\n",
       "    </tr>\n",
       "    <tr>\n",
       "      <th>1</th>\n",
       "      <td>ABBA</td>\n",
       "      <td>Andante, Andante</td>\n",
       "      <td>/a/abba/andante+andante_20002708.html</td>\n",
       "      <td>Take it easy with me, please  \\r\\nTouch me gen...</td>\n",
       "    </tr>\n",
       "    <tr>\n",
       "      <th>2</th>\n",
       "      <td>ABBA</td>\n",
       "      <td>As Good As New</td>\n",
       "      <td>/a/abba/as+good+as+new_20003033.html</td>\n",
       "      <td>I'll never know why I had to go  \\r\\nWhy I had...</td>\n",
       "    </tr>\n",
       "    <tr>\n",
       "      <th>3</th>\n",
       "      <td>ABBA</td>\n",
       "      <td>Bang</td>\n",
       "      <td>/a/abba/bang_20598415.html</td>\n",
       "      <td>Making somebody happy is a question of give an...</td>\n",
       "    </tr>\n",
       "    <tr>\n",
       "      <th>4</th>\n",
       "      <td>ABBA</td>\n",
       "      <td>Bang-A-Boomerang</td>\n",
       "      <td>/a/abba/bang+a+boomerang_20002668.html</td>\n",
       "      <td>Making somebody happy is a question of give an...</td>\n",
       "    </tr>\n",
       "  </tbody>\n",
       "</table>\n",
       "</div>"
      ],
      "text/plain": [
       "  artist                   song                                        link  \\\n",
       "0   ABBA  Ahe's My Kind Of Girl  /a/abba/ahes+my+kind+of+girl_20598417.html   \n",
       "1   ABBA       Andante, Andante       /a/abba/andante+andante_20002708.html   \n",
       "2   ABBA         As Good As New        /a/abba/as+good+as+new_20003033.html   \n",
       "3   ABBA                   Bang                  /a/abba/bang_20598415.html   \n",
       "4   ABBA       Bang-A-Boomerang      /a/abba/bang+a+boomerang_20002668.html   \n",
       "\n",
       "                                                text  \n",
       "0  Look at her face, it's a wonderful face  \\r\\nA...  \n",
       "1  Take it easy with me, please  \\r\\nTouch me gen...  \n",
       "2  I'll never know why I had to go  \\r\\nWhy I had...  \n",
       "3  Making somebody happy is a question of give an...  \n",
       "4  Making somebody happy is a question of give an...  "
      ]
     },
     "execution_count": 8,
     "metadata": {},
     "output_type": "execute_result"
    }
   ],
   "source": [
    "df.head(5)"
   ]
  },
  {
   "cell_type": "code",
   "execution_count": 9,
   "id": "02b438a4-0e88-4dc7-a2b0-333c2d1eac76",
   "metadata": {},
   "outputs": [
    {
     "data": {
      "text/html": [
       "<div>\n",
       "<style scoped>\n",
       "    .dataframe tbody tr th:only-of-type {\n",
       "        vertical-align: middle;\n",
       "    }\n",
       "\n",
       "    .dataframe tbody tr th {\n",
       "        vertical-align: top;\n",
       "    }\n",
       "\n",
       "    .dataframe thead th {\n",
       "        text-align: right;\n",
       "    }\n",
       "</style>\n",
       "<table border=\"1\" class=\"dataframe\">\n",
       "  <thead>\n",
       "    <tr style=\"text-align: right;\">\n",
       "      <th></th>\n",
       "      <th>artist</th>\n",
       "      <th>song</th>\n",
       "      <th>link</th>\n",
       "      <th>text</th>\n",
       "    </tr>\n",
       "  </thead>\n",
       "  <tbody>\n",
       "    <tr>\n",
       "      <th>57645</th>\n",
       "      <td>Ziggy Marley</td>\n",
       "      <td>Good Old Days</td>\n",
       "      <td>/z/ziggy+marley/good+old+days_10198588.html</td>\n",
       "      <td>Irie days come on play  \\r\\nLet the angels fly...</td>\n",
       "    </tr>\n",
       "    <tr>\n",
       "      <th>57646</th>\n",
       "      <td>Ziggy Marley</td>\n",
       "      <td>Hand To Mouth</td>\n",
       "      <td>/z/ziggy+marley/hand+to+mouth_20531167.html</td>\n",
       "      <td>Power to the workers  \\r\\nMore power  \\r\\nPowe...</td>\n",
       "    </tr>\n",
       "    <tr>\n",
       "      <th>57647</th>\n",
       "      <td>Zwan</td>\n",
       "      <td>Come With Me</td>\n",
       "      <td>/z/zwan/come+with+me_20148981.html</td>\n",
       "      <td>all you need  \\r\\nis something i'll believe  \\...</td>\n",
       "    </tr>\n",
       "    <tr>\n",
       "      <th>57648</th>\n",
       "      <td>Zwan</td>\n",
       "      <td>Desire</td>\n",
       "      <td>/z/zwan/desire_20148986.html</td>\n",
       "      <td>northern star  \\r\\nam i frightened  \\r\\nwhere ...</td>\n",
       "    </tr>\n",
       "    <tr>\n",
       "      <th>57649</th>\n",
       "      <td>Zwan</td>\n",
       "      <td>Heartsong</td>\n",
       "      <td>/z/zwan/heartsong_20148991.html</td>\n",
       "      <td>come in  \\r\\nmake yourself at home  \\r\\ni'm a ...</td>\n",
       "    </tr>\n",
       "  </tbody>\n",
       "</table>\n",
       "</div>"
      ],
      "text/plain": [
       "             artist           song  \\\n",
       "57645  Ziggy Marley  Good Old Days   \n",
       "57646  Ziggy Marley  Hand To Mouth   \n",
       "57647          Zwan   Come With Me   \n",
       "57648          Zwan         Desire   \n",
       "57649          Zwan      Heartsong   \n",
       "\n",
       "                                              link  \\\n",
       "57645  /z/ziggy+marley/good+old+days_10198588.html   \n",
       "57646  /z/ziggy+marley/hand+to+mouth_20531167.html   \n",
       "57647           /z/zwan/come+with+me_20148981.html   \n",
       "57648                 /z/zwan/desire_20148986.html   \n",
       "57649              /z/zwan/heartsong_20148991.html   \n",
       "\n",
       "                                                    text  \n",
       "57645  Irie days come on play  \\r\\nLet the angels fly...  \n",
       "57646  Power to the workers  \\r\\nMore power  \\r\\nPowe...  \n",
       "57647  all you need  \\r\\nis something i'll believe  \\...  \n",
       "57648  northern star  \\r\\nam i frightened  \\r\\nwhere ...  \n",
       "57649  come in  \\r\\nmake yourself at home  \\r\\ni'm a ...  "
      ]
     },
     "execution_count": 9,
     "metadata": {},
     "output_type": "execute_result"
    }
   ],
   "source": [
    "df.tail(5)"
   ]
  },
  {
   "cell_type": "code",
   "execution_count": 10,
   "id": "26d618ff-3ed9-46f2-a2f4-34ba92d557a1",
   "metadata": {},
   "outputs": [
    {
     "data": {
      "text/plain": [
       "(57650, 4)"
      ]
     },
     "execution_count": 10,
     "metadata": {},
     "output_type": "execute_result"
    }
   ],
   "source": [
    "# row, col\n",
    "df.shape"
   ]
  },
  {
   "cell_type": "code",
   "execution_count": 11,
   "id": "9aecf337-0f1c-4bf6-84ab-39dee610f1ab",
   "metadata": {},
   "outputs": [
    {
     "data": {
      "text/plain": [
       "artist    0\n",
       "song      0\n",
       "link      0\n",
       "text      0\n",
       "dtype: int64"
      ]
     },
     "execution_count": 11,
     "metadata": {},
     "output_type": "execute_result"
    }
   ],
   "source": [
    "# no missing values in dataset\n",
    "df.isnull().sum()"
   ]
  },
  {
   "cell_type": "code",
   "execution_count": 12,
   "id": "ded322c3-8d5e-4b87-84ed-acf99de5e35b",
   "metadata": {},
   "outputs": [],
   "source": [
    "df = df.sample(5000).drop('link', axis=1).reset_index(drop=True)"
   ]
  },
  {
   "cell_type": "code",
   "execution_count": 13,
   "id": "9938b4a5-54d5-4a9e-91af-6c9e2f5aa4cc",
   "metadata": {},
   "outputs": [
    {
     "data": {
      "text/html": [
       "<div>\n",
       "<style scoped>\n",
       "    .dataframe tbody tr th:only-of-type {\n",
       "        vertical-align: middle;\n",
       "    }\n",
       "\n",
       "    .dataframe tbody tr th {\n",
       "        vertical-align: top;\n",
       "    }\n",
       "\n",
       "    .dataframe thead th {\n",
       "        text-align: right;\n",
       "    }\n",
       "</style>\n",
       "<table border=\"1\" class=\"dataframe\">\n",
       "  <thead>\n",
       "    <tr style=\"text-align: right;\">\n",
       "      <th></th>\n",
       "      <th>artist</th>\n",
       "      <th>song</th>\n",
       "      <th>text</th>\n",
       "    </tr>\n",
       "  </thead>\n",
       "  <tbody>\n",
       "    <tr>\n",
       "      <th>0</th>\n",
       "      <td>Marilyn Manson</td>\n",
       "      <td>Insect Pins</td>\n",
       "      <td>I'm squirming slow now  \\r\\nSticking in it  \\r...</td>\n",
       "    </tr>\n",
       "    <tr>\n",
       "      <th>1</th>\n",
       "      <td>Bread</td>\n",
       "      <td>The Last Time</td>\n",
       "      <td>Hey, didn't you believe me when I told you I w...</td>\n",
       "    </tr>\n",
       "    <tr>\n",
       "      <th>2</th>\n",
       "      <td>Linda Ronstadt</td>\n",
       "      <td>Icy Blue Heart</td>\n",
       "      <td>She came on to him like a slow moving cold fro...</td>\n",
       "    </tr>\n",
       "    <tr>\n",
       "      <th>3</th>\n",
       "      <td>Randy Travis</td>\n",
       "      <td>Labor Of Love</td>\n",
       "      <td>It was not a silent night, there was blood on ...</td>\n",
       "    </tr>\n",
       "    <tr>\n",
       "      <th>4</th>\n",
       "      <td>Eurythmics</td>\n",
       "      <td>Party Town</td>\n",
       "      <td>Saxophones were playing in a pool of light  \\r...</td>\n",
       "    </tr>\n",
       "    <tr>\n",
       "      <th>5</th>\n",
       "      <td>Kelly Family</td>\n",
       "      <td>Wild And Crazy</td>\n",
       "      <td>Verse 1  \\r\\nHe was a wild boy  \\r\\nShe was a ...</td>\n",
       "    </tr>\n",
       "    <tr>\n",
       "      <th>6</th>\n",
       "      <td>Marilyn Manson</td>\n",
       "      <td>Like A Virgin</td>\n",
       "      <td>I made it through the wilderness  \\r\\nSomehow ...</td>\n",
       "    </tr>\n",
       "    <tr>\n",
       "      <th>7</th>\n",
       "      <td>Alabama</td>\n",
       "      <td>The Christmas Spirit</td>\n",
       "      <td>I see the lights of the city tonight and I see...</td>\n",
       "    </tr>\n",
       "    <tr>\n",
       "      <th>8</th>\n",
       "      <td>The White Stripes</td>\n",
       "      <td>Icky Thump</td>\n",
       "      <td>Ya he, icky thump  \\r\\nWho'd a thunk?  \\r\\nSit...</td>\n",
       "    </tr>\n",
       "    <tr>\n",
       "      <th>9</th>\n",
       "      <td>Zac Brown Band</td>\n",
       "      <td>Martin</td>\n",
       "      <td>He was born in the woods  \\r\\nTorn from his ho...</td>\n",
       "    </tr>\n",
       "  </tbody>\n",
       "</table>\n",
       "</div>"
      ],
      "text/plain": [
       "              artist                  song  \\\n",
       "0     Marilyn Manson           Insect Pins   \n",
       "1              Bread         The Last Time   \n",
       "2     Linda Ronstadt        Icy Blue Heart   \n",
       "3       Randy Travis         Labor Of Love   \n",
       "4         Eurythmics            Party Town   \n",
       "5       Kelly Family        Wild And Crazy   \n",
       "6     Marilyn Manson         Like A Virgin   \n",
       "7            Alabama  The Christmas Spirit   \n",
       "8  The White Stripes            Icky Thump   \n",
       "9     Zac Brown Band                Martin   \n",
       "\n",
       "                                                text  \n",
       "0  I'm squirming slow now  \\r\\nSticking in it  \\r...  \n",
       "1  Hey, didn't you believe me when I told you I w...  \n",
       "2  She came on to him like a slow moving cold fro...  \n",
       "3  It was not a silent night, there was blood on ...  \n",
       "4  Saxophones were playing in a pool of light  \\r...  \n",
       "5  Verse 1  \\r\\nHe was a wild boy  \\r\\nShe was a ...  \n",
       "6  I made it through the wilderness  \\r\\nSomehow ...  \n",
       "7  I see the lights of the city tonight and I see...  \n",
       "8  Ya he, icky thump  \\r\\nWho'd a thunk?  \\r\\nSit...  \n",
       "9  He was born in the woods  \\r\\nTorn from his ho...  "
      ]
     },
     "execution_count": 13,
     "metadata": {},
     "output_type": "execute_result"
    }
   ],
   "source": [
    "df.head(10)"
   ]
  },
  {
   "cell_type": "code",
   "execution_count": 14,
   "id": "0bcc8014-e897-4d3d-9101-94da6cae37d0",
   "metadata": {},
   "outputs": [
    {
     "data": {
      "text/plain": [
       "\"I'm squirming slow now  \\r\\nSticking in it  \\r\\nSwallow in your warm spit  \\r\\nRepel, rip  \\r\\n  \\r\\nWhat'ca ya gonna feel?  \\r\\nNever gonna heal  \\r\\nSee what's in my blood  \\r\\nWhat'ca ya gonna feel?  \\r\\nNever gonna heal  \\r\\nSee what's in my blood  \\r\\nWhat'ca ya gonna feel?  \\r\\nNever gonna heal  \\r\\nSee what's in my blood  \\r\\nWhat'ca ya gonna feel?  \\r\\nNever gonna heal  \\r\\n  \\r\\nStuck and displaced  \\r\\nIt will drown again  \\r\\nStuck and disappeared  \\r\\nNow you gonna see, now you gonna see  \\r\\nNow you gonna see what's in my blood  \\r\\n  \\r\\nSticking in it  \\r\\nSticking in it  \\r\\nSticking in it  \\r\\nSticking in it\\r\\n\\r\\n\""
      ]
     },
     "execution_count": 14,
     "metadata": {},
     "output_type": "execute_result"
    }
   ],
   "source": [
    "df['text'][0]"
   ]
  },
  {
   "cell_type": "code",
   "execution_count": 15,
   "id": "9fbb5dd2-219c-42b1-84a6-fbe2afbf3c9c",
   "metadata": {},
   "outputs": [
    {
     "data": {
      "text/plain": [
       "(5000, 3)"
      ]
     },
     "execution_count": 15,
     "metadata": {},
     "output_type": "execute_result"
    }
   ],
   "source": [
    "df.shape"
   ]
  },
  {
   "cell_type": "code",
   "execution_count": 16,
   "id": "53927cd8-1646-4aee-a3f7-92e6add0be36",
   "metadata": {},
   "outputs": [],
   "source": [
    "# text cleaning/ text pre-processing\n",
    "df['text'] = df['text'].str.lower().replace(r'^w\\s', ' ').replace(r'\\n', ' ', regex=True)"
   ]
  },
  {
   "cell_type": "code",
   "execution_count": 17,
   "id": "a1c48571-e24c-4b56-9977-aadfdd2f16de",
   "metadata": {},
   "outputs": [
    {
     "data": {
      "text/html": [
       "<div>\n",
       "<style scoped>\n",
       "    .dataframe tbody tr th:only-of-type {\n",
       "        vertical-align: middle;\n",
       "    }\n",
       "\n",
       "    .dataframe tbody tr th {\n",
       "        vertical-align: top;\n",
       "    }\n",
       "\n",
       "    .dataframe thead th {\n",
       "        text-align: right;\n",
       "    }\n",
       "</style>\n",
       "<table border=\"1\" class=\"dataframe\">\n",
       "  <thead>\n",
       "    <tr style=\"text-align: right;\">\n",
       "      <th></th>\n",
       "      <th>artist</th>\n",
       "      <th>song</th>\n",
       "      <th>text</th>\n",
       "    </tr>\n",
       "  </thead>\n",
       "  <tbody>\n",
       "    <tr>\n",
       "      <th>4995</th>\n",
       "      <td>Emmylou Harris</td>\n",
       "      <td>May This Be Love</td>\n",
       "      <td>(jimi hendrix)  \\r waterfall  \\r nothing can g...</td>\n",
       "    </tr>\n",
       "    <tr>\n",
       "      <th>4996</th>\n",
       "      <td>Evanescence</td>\n",
       "      <td>Field Of Innocence</td>\n",
       "      <td>i still remember the world  \\r from the eyes o...</td>\n",
       "    </tr>\n",
       "    <tr>\n",
       "      <th>4997</th>\n",
       "      <td>Idina Menzel</td>\n",
       "      <td>Follow If You Lead</td>\n",
       "      <td>in this jury  \\r there are peddlers and disbel...</td>\n",
       "    </tr>\n",
       "    <tr>\n",
       "      <th>4998</th>\n",
       "      <td>Europe</td>\n",
       "      <td>Scream Of Anger</td>\n",
       "      <td>i won't live to see tomorrow  \\r there won't b...</td>\n",
       "    </tr>\n",
       "    <tr>\n",
       "      <th>4999</th>\n",
       "      <td>Used</td>\n",
       "      <td>Listening</td>\n",
       "      <td>your skin attached is a fragile cliche  \\r of ...</td>\n",
       "    </tr>\n",
       "  </tbody>\n",
       "</table>\n",
       "</div>"
      ],
      "text/plain": [
       "              artist                song  \\\n",
       "4995  Emmylou Harris    May This Be Love   \n",
       "4996     Evanescence  Field Of Innocence   \n",
       "4997    Idina Menzel  Follow If You Lead   \n",
       "4998          Europe     Scream Of Anger   \n",
       "4999            Used           Listening   \n",
       "\n",
       "                                                   text  \n",
       "4995  (jimi hendrix)  \\r waterfall  \\r nothing can g...  \n",
       "4996  i still remember the world  \\r from the eyes o...  \n",
       "4997  in this jury  \\r there are peddlers and disbel...  \n",
       "4998  i won't live to see tomorrow  \\r there won't b...  \n",
       "4999  your skin attached is a fragile cliche  \\r of ...  "
      ]
     },
     "execution_count": 17,
     "metadata": {},
     "output_type": "execute_result"
    }
   ],
   "source": [
    "df.tail(5)"
   ]
  },
  {
   "cell_type": "code",
   "execution_count": 18,
   "id": "964c7263-8466-4b9d-9e4f-c44df4b57535",
   "metadata": {},
   "outputs": [],
   "source": [
    "import nltk\n",
    "from nltk.stem.porter import PorterStemmer\n",
    "stemmer = PorterStemmer()"
   ]
  },
  {
   "cell_type": "code",
   "execution_count": 19,
   "id": "8c89c319-72e5-45be-93ae-d6191a7a9bc8",
   "metadata": {},
   "outputs": [],
   "source": [
    "from nltk.tokenize import word_tokenize\n",
    "def token(text):\n",
    "    token = nltk.word_tokenize(text)\n",
    "    a = [stemmer.stem(w) for w in token]\n",
    "    return \" \".join(a)"
   ]
  },
  {
   "cell_type": "code",
   "execution_count": 20,
   "id": "49f582c6-765b-4c12-8f69-a4799ddf67ce",
   "metadata": {},
   "outputs": [
    {
     "data": {
      "text/plain": [
       "'you are beaut , beauti'"
      ]
     },
     "execution_count": 20,
     "metadata": {},
     "output_type": "execute_result"
    }
   ],
   "source": [
    "token(\"you are beautful, beauty\")"
   ]
  },
  {
   "cell_type": "code",
   "execution_count": 21,
   "id": "018bdb5b-fdfc-486a-b9d3-5894bcba0ac6",
   "metadata": {},
   "outputs": [
    {
     "data": {
      "text/plain": [
       "0       i 'm squirm slow now stick in it swallow in yo...\n",
       "1       hey , did n't you believ me when i told you i ...\n",
       "2       she came on to him like a slow move cold front...\n",
       "3       it wa not a silent night , there wa blood on t...\n",
       "4       saxophon were play in a pool of light corridor...\n",
       "                              ...                        \n",
       "4995    ( jimi hendrix ) waterfal noth can go wrong no...\n",
       "4996    i still rememb the world from the eye of a chi...\n",
       "4997    in thi juri there are peddler and disbeliev in...\n",
       "4998    i wo n't live to see tomorrow there wo n't be ...\n",
       "4999    your skin attach is a fragil clich of my broke...\n",
       "Name: text, Length: 5000, dtype: object"
      ]
     },
     "execution_count": 21,
     "metadata": {},
     "output_type": "execute_result"
    }
   ],
   "source": [
    "df['text'].apply(lambda x: token(x))"
   ]
  },
  {
   "cell_type": "code",
   "execution_count": 22,
   "id": "920eb09b-3929-4553-b8a3-128c7e638bfe",
   "metadata": {},
   "outputs": [],
   "source": [
    "from sklearn.feature_extraction.text import TfidfVectorizer\n",
    "from sklearn.metrics.pairwise import cosine_similarity"
   ]
  },
  {
   "cell_type": "code",
   "execution_count": 23,
   "id": "d57146a8-0131-44ca-bad0-0e28d68a3031",
   "metadata": {},
   "outputs": [],
   "source": [
    "tfid = TfidfVectorizer(analyzer='word', stop_words='english')"
   ]
  },
  {
   "cell_type": "code",
   "execution_count": 24,
   "id": "eda47a8d-17bd-48f4-a594-cb7a60911bb4",
   "metadata": {},
   "outputs": [],
   "source": [
    "matrix = tfid.fit_transform(df['text'])"
   ]
  },
  {
   "cell_type": "code",
   "execution_count": 25,
   "id": "cfa74915-fd5f-4411-b97c-c974b8a56275",
   "metadata": {},
   "outputs": [],
   "source": [
    "similar = cosine_similarity(matrix)"
   ]
  },
  {
   "cell_type": "code",
   "execution_count": 26,
   "id": "2670502f-7bbf-46b0-954d-38ff0a63eb34",
   "metadata": {},
   "outputs": [
    {
     "data": {
      "text/plain": [
       "array([1.        , 0.14333811, 0.00950956, ..., 0.        , 0.06016006,\n",
       "       0.02899541])"
      ]
     },
     "execution_count": 26,
     "metadata": {},
     "output_type": "execute_result"
    }
   ],
   "source": [
    "similar[0]"
   ]
  },
  {
   "cell_type": "code",
   "execution_count": 27,
   "id": "8fc65d51-9b35-4dd2-82d4-02be5fa17679",
   "metadata": {},
   "outputs": [
    {
     "data": {
      "text/plain": [
       "395"
      ]
     },
     "execution_count": 27,
     "metadata": {},
     "output_type": "execute_result"
    }
   ],
   "source": [
    "df[df['song']=='White Christmas'].index[0]"
   ]
  },
  {
   "cell_type": "code",
   "execution_count": 28,
   "id": "a288a5cb-67ec-4465-b043-ff293e7aab5d",
   "metadata": {},
   "outputs": [],
   "source": [
    "# Recommender Function\n",
    "def recommender(song_name):\n",
    "    idx = df[df['song']==song_name].index[0]\n",
    "    distance = sorted(list(enumerate(similar[idx])), reverse=True, key = lambda x:x[1])\n",
    "    song = []\n",
    "    for song_id in distance[1:10]: # recommend the first ten songs\n",
    "        song.append(df.iloc[song_id[0]].song)\n",
    "    return song"
   ]
  },
  {
   "cell_type": "code",
   "execution_count": 29,
   "id": "cab95df7-5a25-4ce9-bc76-f992a7705062",
   "metadata": {},
   "outputs": [
    {
     "data": {
      "text/plain": [
       "['White Christmas',\n",
       " 'White Christmas',\n",
       " 'Merry Christmas',\n",
       " 'All I Want Is You For Christmas',\n",
       " 'Home On Christmas Day',\n",
       " 'Silver Bells',\n",
       " 'I Saw Three Ships A-Sailing',\n",
       " 'Christmas Island',\n",
       " 'Silver Bells']"
      ]
     },
     "execution_count": 29,
     "metadata": {},
     "output_type": "execute_result"
    }
   ],
   "source": [
    "recommender(\"White Christmas\")"
   ]
  },
  {
   "cell_type": "code",
   "execution_count": 30,
   "id": "1fa6d1ec-40cb-4ffb-a953-4ceceb00a0a9",
   "metadata": {},
   "outputs": [],
   "source": [
    "import pickle"
   ]
  },
  {
   "cell_type": "code",
   "execution_count": 33,
   "id": "ac11a651-4fe2-403d-9a66-bdf7a2c35361",
   "metadata": {},
   "outputs": [],
   "source": [
    "pickle.dump(similar, open(\"similarity.pkl\", \"wb\"))"
   ]
  },
  {
   "cell_type": "code",
   "execution_count": 34,
   "id": "25d1a37d-bd72-43b9-9410-e07216d28b68",
   "metadata": {},
   "outputs": [],
   "source": [
    "pickle.dump(df, open(\"df.pkl\", \"wb\"))"
   ]
  },
  {
   "cell_type": "code",
   "execution_count": null,
   "id": "f67f9c1e-26d8-4eb8-8dbe-03434f8b9a14",
   "metadata": {},
   "outputs": [],
   "source": []
  }
 ],
 "metadata": {
  "kernelspec": {
   "display_name": "Python 3 (ipykernel)",
   "language": "python",
   "name": "python3"
  },
  "language_info": {
   "codemirror_mode": {
    "name": "ipython",
    "version": 3
   },
   "file_extension": ".py",
   "mimetype": "text/x-python",
   "name": "python",
   "nbconvert_exporter": "python",
   "pygments_lexer": "ipython3",
   "version": "3.11.6"
  }
 },
 "nbformat": 4,
 "nbformat_minor": 5
}
